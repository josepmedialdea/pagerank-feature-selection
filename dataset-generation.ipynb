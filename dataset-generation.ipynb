{
 "cells": [
  {
   "cell_type": "markdown",
   "id": "dafa3aac-9d72-4cb5-b56d-915fd7ee0a28",
   "metadata": {},
   "source": [
    "# Dataset Generation"
   ]
  },
  {
   "cell_type": "markdown",
   "id": "24bd2552-86f1-479b-9126-b4952f351efc",
   "metadata": {},
   "source": [
    "## Imports"
   ]
  },
  {
   "cell_type": "code",
   "execution_count": 8,
   "id": "f433cb90-5e18-4b16-86c9-1d7ecafcfc93",
   "metadata": {},
   "outputs": [],
   "source": [
    "import pandas as pd\n",
    "import numpy as np"
   ]
  },
  {
   "cell_type": "markdown",
   "id": "7adf3351-8af1-4fe8-9844-e0b2c4998774",
   "metadata": {},
   "source": [
    "## Dice dataset"
   ]
  },
  {
   "cell_type": "code",
   "execution_count": 19,
   "id": "3860a084-2108-465e-b62d-8719eeb10322",
   "metadata": {},
   "outputs": [],
   "source": [
    "dataset_name = 'dice3'\n",
    "n_dice = 4\n",
    "n_irrelevant = 50\n",
    "n_samples = 10000\n",
    "redundant_sums = [(1, 2)]"
   ]
  },
  {
   "cell_type": "code",
   "execution_count": 20,
   "id": "4236ba0d-1ca5-42d8-8763-4b3b1a090bf0",
   "metadata": {},
   "outputs": [
    {
     "name": "stderr",
     "output_type": "stream",
     "text": [
      "<ipython-input-20-0e5fec6e6936>:4: DeprecationWarning: This function is deprecated. Please call randint(1, 6 + 1) instead\n",
      "  d_values = np.random.random_integers(1, 6, n_samples)\n",
      "<ipython-input-20-0e5fec6e6936>:11: DeprecationWarning: This function is deprecated. Please call randint(1, 6 + 1) instead\n",
      "  i_values = np.random.random_integers(1, 6, n_samples)\n"
     ]
    }
   ],
   "source": [
    "df = pd.DataFrame()\n",
    "\n",
    "for d in range(1, n_dice + 1):\n",
    "    d_values = np.random.random_integers(1, 6, n_samples)\n",
    "    df[f'dice{d}'] = d_values\n",
    "\n",
    "for d1, d2 in redundant_sums:\n",
    "    df[f'd{d1}_d{d2}_sum'] = df[f'dice{d1}'] + df[f'dice{d2}']\n",
    "\n",
    "for i in range(1, n_irrelevant + 1):\n",
    "    i_values = np.random.random_integers(1, 6, n_samples)\n",
    "    df[f'i{i}'] = i_values\n",
    "\n",
    "t = np.zeros(n_samples, dtype=np.int8)\n",
    "\n",
    "for i in range(n_samples):\n",
    "    dice_sum = np.sum(df.iloc[i, 0:n_dice])\n",
    "    if dice_sum >= 17:\n",
    "        t[i] = 3\n",
    "    elif dice_sum >= 14:\n",
    "        t[i] = 2\n",
    "    elif dice_sum >= 11:\n",
    "        t[i] = 1\n",
    "    else:\n",
    "        t[i] = 0     \n",
    "df['Target'] = t\n",
    "\n",
    "df.to_csv(f'datasets/{dataset_name}.csv', index=False)"
   ]
  },
  {
   "cell_type": "code",
   "execution_count": null,
   "id": "55f54ae5-1de9-443c-b670-e83b14721136",
   "metadata": {},
   "outputs": [],
   "source": []
  }
 ],
 "metadata": {
  "kernelspec": {
   "display_name": "Python 3",
   "language": "python",
   "name": "python3"
  },
  "language_info": {
   "codemirror_mode": {
    "name": "ipython",
    "version": 3
   },
   "file_extension": ".py",
   "mimetype": "text/x-python",
   "name": "python",
   "nbconvert_exporter": "python",
   "pygments_lexer": "ipython3",
   "version": "3.9.2"
  }
 },
 "nbformat": 4,
 "nbformat_minor": 5
}
