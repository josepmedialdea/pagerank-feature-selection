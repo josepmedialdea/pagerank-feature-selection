{
 "cells": [
  {
   "cell_type": "markdown",
   "id": "dafa3aac-9d72-4cb5-b56d-915fd7ee0a28",
   "metadata": {},
   "source": [
    "# Dataset Generation"
   ]
  },
  {
   "cell_type": "markdown",
   "id": "24bd2552-86f1-479b-9126-b4952f351efc",
   "metadata": {},
   "source": [
    "## Imports"
   ]
  },
  {
   "cell_type": "code",
   "execution_count": 10,
   "id": "f433cb90-5e18-4b16-86c9-1d7ecafcfc93",
   "metadata": {},
   "outputs": [],
   "source": [
    "import pandas as pd\n",
    "import numpy as np"
   ]
  },
  {
   "cell_type": "markdown",
   "id": "7adf3351-8af1-4fe8-9844-e0b2c4998774",
   "metadata": {},
   "source": [
    "## Dice dataset"
   ]
  },
  {
   "cell_type": "code",
   "execution_count": 11,
   "id": "3860a084-2108-465e-b62d-8719eeb10322",
   "metadata": {},
   "outputs": [],
   "source": [
    "dataset_name = 'Dice1'\n",
    "n_dice = 4\n",
    "n_irrelevant = 3\n",
    "n_samples = 2000\n",
    "redundant_sums = [(1, 2)]"
   ]
  },
  {
   "cell_type": "code",
   "execution_count": 12,
   "id": "4236ba0d-1ca5-42d8-8763-4b3b1a090bf0",
   "metadata": {},
   "outputs": [
    {
     "name": "stderr",
     "output_type": "stream",
     "text": [
      "<ipython-input-12-fedb8a58a370>:4: DeprecationWarning: This function is deprecated. Please call randint(1, 6 + 1) instead\n",
      "  d_values = np.random.random_integers(1, 6, n_samples)\n",
      "<ipython-input-12-fedb8a58a370>:11: DeprecationWarning: This function is deprecated. Please call randint(1, 6 + 1) instead\n",
      "  i_values = np.random.random_integers(1, 6, n_samples)\n"
     ]
    }
   ],
   "source": [
    "df = pd.DataFrame()\n",
    "\n",
    "for d in range(1, n_dice + 1):\n",
    "    d_values = np.random.random_integers(1, 6, n_samples)\n",
    "    df[f'dice{d}'] = d_values\n",
    "\n",
    "for d1, d2 in redundant_sums:\n",
    "    df[f'd{d1}_d{d2}_sum'] = df[f'dice{d1}'] + df[f'dice{d2}']\n",
    "\n",
    "for i in range(1, n_irrelevant + 1):\n",
    "    i_values = np.random.random_integers(1, 6, n_samples)\n",
    "    df[f'i{i}'] = i_values\n",
    "\n",
    "for s in range(n_samples):\n",
    "    "
   ]
  },
  {
   "cell_type": "code",
   "execution_count": 13,
   "id": "27067ea6-4c46-4fea-8950-30c7c2b1a0ea",
   "metadata": {},
   "outputs": [
    {
     "data": {
      "text/html": [
       "<div>\n",
       "<style scoped>\n",
       "    .dataframe tbody tr th:only-of-type {\n",
       "        vertical-align: middle;\n",
       "    }\n",
       "\n",
       "    .dataframe tbody tr th {\n",
       "        vertical-align: top;\n",
       "    }\n",
       "\n",
       "    .dataframe thead th {\n",
       "        text-align: right;\n",
       "    }\n",
       "</style>\n",
       "<table border=\"1\" class=\"dataframe\">\n",
       "  <thead>\n",
       "    <tr style=\"text-align: right;\">\n",
       "      <th></th>\n",
       "      <th>dice1</th>\n",
       "      <th>dice2</th>\n",
       "      <th>dice3</th>\n",
       "      <th>dice4</th>\n",
       "      <th>d1_d2_sum</th>\n",
       "      <th>i1</th>\n",
       "      <th>i2</th>\n",
       "    </tr>\n",
       "  </thead>\n",
       "  <tbody>\n",
       "    <tr>\n",
       "      <th>0</th>\n",
       "      <td>1</td>\n",
       "      <td>6</td>\n",
       "      <td>3</td>\n",
       "      <td>4</td>\n",
       "      <td>7</td>\n",
       "      <td>2</td>\n",
       "      <td>1</td>\n",
       "    </tr>\n",
       "    <tr>\n",
       "      <th>1</th>\n",
       "      <td>6</td>\n",
       "      <td>5</td>\n",
       "      <td>3</td>\n",
       "      <td>3</td>\n",
       "      <td>11</td>\n",
       "      <td>3</td>\n",
       "      <td>1</td>\n",
       "    </tr>\n",
       "    <tr>\n",
       "      <th>2</th>\n",
       "      <td>5</td>\n",
       "      <td>1</td>\n",
       "      <td>2</td>\n",
       "      <td>6</td>\n",
       "      <td>6</td>\n",
       "      <td>2</td>\n",
       "      <td>4</td>\n",
       "    </tr>\n",
       "    <tr>\n",
       "      <th>3</th>\n",
       "      <td>1</td>\n",
       "      <td>6</td>\n",
       "      <td>4</td>\n",
       "      <td>5</td>\n",
       "      <td>7</td>\n",
       "      <td>6</td>\n",
       "      <td>1</td>\n",
       "    </tr>\n",
       "    <tr>\n",
       "      <th>4</th>\n",
       "      <td>5</td>\n",
       "      <td>1</td>\n",
       "      <td>4</td>\n",
       "      <td>3</td>\n",
       "      <td>6</td>\n",
       "      <td>3</td>\n",
       "      <td>4</td>\n",
       "    </tr>\n",
       "    <tr>\n",
       "      <th>...</th>\n",
       "      <td>...</td>\n",
       "      <td>...</td>\n",
       "      <td>...</td>\n",
       "      <td>...</td>\n",
       "      <td>...</td>\n",
       "      <td>...</td>\n",
       "      <td>...</td>\n",
       "    </tr>\n",
       "    <tr>\n",
       "      <th>1995</th>\n",
       "      <td>2</td>\n",
       "      <td>4</td>\n",
       "      <td>5</td>\n",
       "      <td>6</td>\n",
       "      <td>6</td>\n",
       "      <td>5</td>\n",
       "      <td>2</td>\n",
       "    </tr>\n",
       "    <tr>\n",
       "      <th>1996</th>\n",
       "      <td>3</td>\n",
       "      <td>2</td>\n",
       "      <td>1</td>\n",
       "      <td>4</td>\n",
       "      <td>5</td>\n",
       "      <td>6</td>\n",
       "      <td>6</td>\n",
       "    </tr>\n",
       "    <tr>\n",
       "      <th>1997</th>\n",
       "      <td>4</td>\n",
       "      <td>2</td>\n",
       "      <td>2</td>\n",
       "      <td>1</td>\n",
       "      <td>6</td>\n",
       "      <td>2</td>\n",
       "      <td>3</td>\n",
       "    </tr>\n",
       "    <tr>\n",
       "      <th>1998</th>\n",
       "      <td>3</td>\n",
       "      <td>2</td>\n",
       "      <td>3</td>\n",
       "      <td>5</td>\n",
       "      <td>5</td>\n",
       "      <td>1</td>\n",
       "      <td>2</td>\n",
       "    </tr>\n",
       "    <tr>\n",
       "      <th>1999</th>\n",
       "      <td>1</td>\n",
       "      <td>3</td>\n",
       "      <td>4</td>\n",
       "      <td>6</td>\n",
       "      <td>4</td>\n",
       "      <td>5</td>\n",
       "      <td>1</td>\n",
       "    </tr>\n",
       "  </tbody>\n",
       "</table>\n",
       "<p>2000 rows × 7 columns</p>\n",
       "</div>"
      ],
      "text/plain": [
       "      dice1  dice2  dice3  dice4  d1_d2_sum  i1  i2\n",
       "0         1      6      3      4          7   2   1\n",
       "1         6      5      3      3         11   3   1\n",
       "2         5      1      2      6          6   2   4\n",
       "3         1      6      4      5          7   6   1\n",
       "4         5      1      4      3          6   3   4\n",
       "...     ...    ...    ...    ...        ...  ..  ..\n",
       "1995      2      4      5      6          6   5   2\n",
       "1996      3      2      1      4          5   6   6\n",
       "1997      4      2      2      1          6   2   3\n",
       "1998      3      2      3      5          5   1   2\n",
       "1999      1      3      4      6          4   5   1\n",
       "\n",
       "[2000 rows x 7 columns]"
      ]
     },
     "execution_count": 13,
     "metadata": {},
     "output_type": "execute_result"
    }
   ],
   "source": []
  },
  {
   "cell_type": "code",
   "execution_count": null,
   "id": "9d01fae4-8ac5-402e-a960-31cc4c6b8f00",
   "metadata": {},
   "outputs": [],
   "source": [
    "df.to_csv(f'datasets/{dataset_name}', index=False)"
   ]
  }
 ],
 "metadata": {
  "kernelspec": {
   "display_name": "Python 3",
   "language": "python",
   "name": "python3"
  },
  "language_info": {
   "codemirror_mode": {
    "name": "ipython",
    "version": 3
   },
   "file_extension": ".py",
   "mimetype": "text/x-python",
   "name": "python",
   "nbconvert_exporter": "python",
   "pygments_lexer": "ipython3",
   "version": "3.8.8"
  }
 },
 "nbformat": 4,
 "nbformat_minor": 5
}
