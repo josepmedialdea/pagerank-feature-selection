{
 "cells": [
  {
   "cell_type": "markdown",
   "id": "dafa3aac-9d72-4cb5-b56d-915fd7ee0a28",
   "metadata": {},
   "source": [
    "# Dataset Generation"
   ]
  },
  {
   "cell_type": "markdown",
   "id": "24bd2552-86f1-479b-9126-b4952f351efc",
   "metadata": {},
   "source": [
    "## Imports"
   ]
  },
  {
   "cell_type": "code",
   "execution_count": 3,
   "id": "f433cb90-5e18-4b16-86c9-1d7ecafcfc93",
   "metadata": {},
   "outputs": [],
   "source": [
    "import pandas as pd\n",
    "import numpy as np\n",
    "from sklearn.datasets import make_classification"
   ]
  },
  {
   "cell_type": "markdown",
   "id": "7adf3351-8af1-4fe8-9844-e0b2c4998774",
   "metadata": {},
   "source": [
    "## Dice dataset"
   ]
  },
  {
   "cell_type": "code",
   "execution_count": 33,
   "id": "3860a084-2108-465e-b62d-8719eeb10322",
   "metadata": {},
   "outputs": [],
   "source": [
    "dataset_name = 'dice3'\n",
    "n_dice = 4\n",
    "n_irrelevant = 40\n",
    "n_samples = 2000\n",
    "redundant_sums = [(1, 2), (3, 4)]"
   ]
  },
  {
   "cell_type": "code",
   "execution_count": 34,
   "id": "4236ba0d-1ca5-42d8-8763-4b3b1a090bf0",
   "metadata": {},
   "outputs": [
    {
     "name": "stderr",
     "output_type": "stream",
     "text": [
      "<ipython-input-34-0e5fec6e6936>:4: DeprecationWarning: This function is deprecated. Please call randint(1, 6 + 1) instead\n",
      "  d_values = np.random.random_integers(1, 6, n_samples)\n",
      "<ipython-input-34-0e5fec6e6936>:11: DeprecationWarning: This function is deprecated. Please call randint(1, 6 + 1) instead\n",
      "  i_values = np.random.random_integers(1, 6, n_samples)\n"
     ]
    }
   ],
   "source": [
    "df = pd.DataFrame()\n",
    "\n",
    "for d in range(1, n_dice + 1):\n",
    "    d_values = np.random.random_integers(1, 6, n_samples)\n",
    "    df[f'dice{d}'] = d_values\n",
    "\n",
    "for d1, d2 in redundant_sums:\n",
    "    df[f'd{d1}_d{d2}_sum'] = df[f'dice{d1}'] + df[f'dice{d2}']\n",
    "\n",
    "for i in range(1, n_irrelevant + 1):\n",
    "    i_values = np.random.random_integers(1, 6, n_samples)\n",
    "    df[f'i{i}'] = i_values\n",
    "\n",
    "t = np.zeros(n_samples, dtype=np.int8)\n",
    "\n",
    "for i in range(n_samples):\n",
    "    dice_sum = np.sum(df.iloc[i, 0:n_dice])\n",
    "    if dice_sum >= 17:\n",
    "        t[i] = 3\n",
    "    elif dice_sum >= 14:\n",
    "        t[i] = 2\n",
    "    elif dice_sum >= 11:\n",
    "        t[i] = 1\n",
    "    else:\n",
    "        t[i] = 0     \n",
    "df['Target'] = t\n",
    "\n",
    "df.to_csv(f'datasets/{dataset_name}.csv', index=False)"
   ]
  },
  {
   "cell_type": "markdown",
   "id": "81b951c5-81bf-4778-b083-c377f9fcde9b",
   "metadata": {},
   "source": [
    "## Make classificaion"
   ]
  },
  {
   "cell_type": "code",
   "execution_count": 12,
   "id": "19036a5a-d534-4edb-8a6b-fb08d08d6e96",
   "metadata": {},
   "outputs": [],
   "source": [
    "dataset_name = 'sklearn3'\n",
    "n_samples = 2000\n",
    "n_relevant = 5 \n",
    "n_irrelevant = 40\n",
    "n_redundant = 5\n",
    "n_features = n_relevant + n_irrelevant + n_redundant\n",
    "n_classes = 2"
   ]
  },
  {
   "cell_type": "code",
   "execution_count": 13,
   "id": "fca21a29-41b9-49b2-9acd-e8d68772567e",
   "metadata": {},
   "outputs": [],
   "source": [
    "df = pd.DataFrame()\n",
    "\n",
    "X, y = make_classification(n_samples=n_samples, n_classes=n_classes, n_features=n_features, n_informative=n_relevant, n_redundant=n_redundant, n_clusters_per_class=1, shuffle=False, flip_y=0, class_sep=1)\n",
    "\n",
    "n = 0\n",
    "\n",
    "for i in range(n_relevant):\n",
    "    values = X[:, n]\n",
    "    df[f'relevant{i + 1}'] = values\n",
    "    n += 1\n",
    "\n",
    "for i in range(n_redundant):\n",
    "    values = X[:, n]\n",
    "    df[f'redundant{i + 1}'] = values\n",
    "    n += 1\n",
    "\n",
    "for i in range(n_irrelevant):\n",
    "    values = X[:, n]\n",
    "    df[f'irrelevant{i + 1}'] = values\n",
    "    n += 1\n",
    "    \n",
    "df['Target'] = y\n",
    "    \n",
    "df.to_csv(f'datasets/{dataset_name}.csv', index=False)"
   ]
  },
  {
   "cell_type": "code",
   "execution_count": null,
   "id": "15afdc43-dfa2-4e64-ad16-f8f13f2e23f7",
   "metadata": {},
   "outputs": [],
   "source": []
  }
 ],
 "metadata": {
  "kernelspec": {
   "display_name": "Python 3",
   "language": "python",
   "name": "python3"
  },
  "language_info": {
   "codemirror_mode": {
    "name": "ipython",
    "version": 3
   },
   "file_extension": ".py",
   "mimetype": "text/x-python",
   "name": "python",
   "nbconvert_exporter": "python",
   "pygments_lexer": "ipython3",
   "version": "3.9.2"
  }
 },
 "nbformat": 4,
 "nbformat_minor": 5
}
