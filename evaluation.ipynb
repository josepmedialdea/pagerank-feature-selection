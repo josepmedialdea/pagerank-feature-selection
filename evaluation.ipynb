{
 "cells": [
  {
   "cell_type": "markdown",
   "id": "0dca5e46-7803-4461-a671-a8b9ed2ce73a",
   "metadata": {},
   "source": [
    "# Page Rank Feature Selection algorithm evaluation\n",
    "\n",
    "This notebook contains all the experiments that have been done to test the performance of the PageRank Feature Selection algorithm. It is part of the report of the final thesis of Josep Medialdea."
   ]
  },
  {
   "cell_type": "markdown",
   "id": "e9692b7f-5f68-403f-805a-0d5d771e5486",
   "metadata": {
    "tags": []
   },
   "source": [
    "# Imports"
   ]
  },
  {
   "cell_type": "code",
   "execution_count": 140,
   "id": "b8001ed5-2a53-4c4a-96ab-38d703f41b37",
   "metadata": {
    "tags": []
   },
   "outputs": [],
   "source": [
    "import pandas as pd\n",
    "from prfs.feature_selection import PageRankFeatureSelector\n",
    "from sklearn.tree import DecisionTreeClassifier\n",
    "from sklearn.naive_bayes import GaussianNB\n",
    "from sklearn.svm import SVR\n",
    "from sklearn.model_selection import cross_val_score, train_test_split\n",
    "import matplotlib.pyplot as plt"
   ]
  },
  {
   "cell_type": "markdown",
   "id": "60cdf9cf-d0a6-4b30-abb0-a7036cbdb209",
   "metadata": {},
   "source": [
    "# Dataset initialization"
   ]
  },
  {
   "cell_type": "code",
   "execution_count": 158,
   "id": "c9af6eb5-60b2-4ff5-9930-c1d2f14ea997",
   "metadata": {
    "tags": []
   },
   "outputs": [],
   "source": [
    "dataset_name = 'regression'\n",
    "drop_columns = []\n",
    "\n",
    "dataset = pd.read_csv(f'datasets/{dataset_name}.csv').drop(columns=drop_columns)\n",
    "features = dataset.iloc[:, 0:-1]\n",
    "target = dataset.iloc[:,-1]"
   ]
  },
  {
   "cell_type": "markdown",
   "id": "536d678f-0b33-494d-be74-77eba5f3ce34",
   "metadata": {},
   "source": [
    "# Feature selection"
   ]
  },
  {
   "cell_type": "code",
   "execution_count": 159,
   "id": "a8e7b34a-0225-4e3a-a644-815d69ad306c",
   "metadata": {},
   "outputs": [],
   "source": [
    "prfs_params = {\n",
    "    'graph':  'feature',\n",
    "    'alpha':  'correlation',\n",
    "    'beta':   'uncorrelation',\n",
    "    'weight':  0.5\n",
    "}"
   ]
  },
  {
   "cell_type": "code",
   "execution_count": 160,
   "id": "1e886bdd-f890-4d06-afde-0fa5b825670e",
   "metadata": {},
   "outputs": [
    {
     "name": "stdout",
     "output_type": "stream",
     "text": [
      "RANKING\n",
      "------\n",
      "1: f3_f4_mul\n",
      "2: f1_f2_sum\n",
      "3: f4\n",
      "4: f2\n",
      "5: f3\n",
      "6: f1\n",
      "7: i3\n",
      "8: i2\n",
      "9: i1\n",
      "\n"
     ]
    }
   ],
   "source": [
    "prfs = PageRankFeatureSelector(**prfs_params)\n",
    "prfs.fit(features, target)\n",
    "print(prfs.ranking())"
   ]
  },
  {
   "cell_type": "markdown",
   "id": "e4d21363-37d5-472b-8716-99794f311320",
   "metadata": {},
   "source": [
    "# Classifier evaluation"
   ]
  },
  {
   "cell_type": "code",
   "execution_count": 125,
   "id": "74d4a5db-aaad-458a-91ad-4d7a060255d0",
   "metadata": {},
   "outputs": [],
   "source": [
    "X_train, X_test, y_train, y_test = train_test_split(features, target, test_size=0.33)\n",
    "\n",
    "accuracy_decision_tree = []\n",
    "accuracy_naive_bayes = []\n",
    "\n",
    "for n in range(len(features.columns)):\n",
    "    clf = DecisionTreeClassifier()\n",
    "    clf.fit(X_train[prfs.select(n + 1)], y_train)\n",
    "    accuracy_decision_tree.append(clf.score(X_test[prfs.select(n + 1)], y_test))\n",
    "    \n",
    "    clf = GaussianNB()\n",
    "    clf.fit(X_train[prfs.select(n + 1)], y_train)\n",
    "    accuracy_naive_bayes.append(clf.score(X_test[prfs.select(n + 1)], y_test))\n",
    "    "
   ]
  },
  {
   "cell_type": "code",
   "execution_count": 126,
   "id": "daf4bb6c-6467-498e-87ae-ddb9bf6431d6",
   "metadata": {},
   "outputs": [
    {
     "data": {
      "image/png": "[encoded data removed]",
      "text/plain": [
       "<Figure size 432x288 with 1 Axes>"
      ]
     },
     "metadata": {
      "needs_background": "light"
     },
     "output_type": "display_data"
    }
   ],
   "source": [
    "plt.rc('text', usetex=True)\n",
    "plt.rc('font', family='serif')\n",
    "plt.xlabel(r'\\textbf{Number of features}',fontsize=16)\n",
    "plt.ylabel(r'\\textbf{Accuracy}',fontsize=16)\n",
    "plt.title(f'{dataset_name} dataset', fontsize=16)\n",
    "plt.plot(range(1, len(accuracy_decision_tree) + 1), accuracy_decision_tree, marker='s', color='r', label='Decision Tree')\n",
    "plt.plot(range(1, len(accuracy_naive_bayes) + 1), accuracy_naive_bayes, marker='s', color='b', label='Naive Bayes')\n",
    "plt.xlim([1, len(features.columns)])\n",
    "plt.ylim([0, 1])\n",
    "plt.legend()\n",
    "plt.show()"
   ]
  },
  {
   "cell_type": "markdown",
   "id": "c1db7be4-853c-4c52-8381-6afdef816900",
   "metadata": {},
   "source": [
    "# Regressor evaluation"
   ]
  },
  {
   "cell_type": "code",
   "execution_count": 161,
   "id": "776414b5-6f9d-4a0f-ae40-fbd5a87a6ef7",
   "metadata": {},
   "outputs": [],
   "source": [
    "X_train, X_test, y_train, y_test = train_test_split(features, target, test_size=0.33)\n",
    "\n",
    "r2_svm = []\n",
    "\n",
    "for n in range(len(features.columns)):\n",
    "    ref = SVR()\n",
    "    ref.fit(X_train[prfs.select(n + 1)], y_train)\n",
    "    r2_svm.append(ref.score(X_test[prfs.select(n + 1)], y_test))"
   ]
  },
  {
   "cell_type": "code",
   "execution_count": 167,
   "id": "4f3fc79c-d67f-4a60-866a-ab73c3dff667",
   "metadata": {},
   "outputs": [
    {
     "data": {
      "image/png": "[encoded data removed]",
      "text/plain": [
       "<Figure size 432x288 with 1 Axes>"
      ]
     },
     "metadata": {
      "needs_background": "light"
     },
     "output_type": "display_data"
    }
   ],
   "source": [
    "plt.rc('text', usetex=True)\n",
    "plt.rc('font', family='serif')\n",
    "plt.xlabel(r'Number of features',fontsize=16)\n",
    "plt.ylabel(r'\\textbf{$R^2$}',fontsize=16)\n",
    "plt.title(f'{dataset_name} dataset', fontsize=16)\n",
    "plt.plot(range(1, len(r2_svm) + 1), r2_svm, marker='s', color='r', label='SVM')\n",
    "plt.xlim([1, len(features.columns)])\n",
    "plt.ylim([0, 1])\n",
    "plt.legend()\n",
    "plt.show()"
   ]
  },
  {
   "cell_type": "code",
   "execution_count": 157,
   "id": "2b4f865c-f8d5-4319-913a-857700229385",
   "metadata": {},
   "outputs": [
    {
     "data": {
      "text/plain": [
       "2975     425000.0\n",
       "936      271310.0\n",
       "2442     206135.0\n",
       "3610     234000.0\n",
       "3250     362500.0\n",
       "          ...    \n",
       "2294    1010000.0\n",
       "4261    2680000.0\n",
       "2559     680000.0\n",
       "3387     410000.0\n",
       "667      139000.0\n",
       "Name: price, Length: 1518, dtype: float64"
      ]
     },
     "execution_count": 157,
     "metadata": {},
     "output_type": "execute_result"
    }
   ],
   "source": [
    "y_test"
   ]
  }
 ],
 "metadata": {
  "kernelspec": {
   "display_name": "Python 3",
   "language": "python",
   "name": "python3"
  },
  "language_info": {
   "codemirror_mode": {
    "name": "ipython",
    "version": 3
   },
   "file_extension": ".py",
   "mimetype": "text/x-python",
   "name": "python",
   "nbconvert_exporter": "python",
   "pygments_lexer": "ipython3",
   "version": "3.8.8"
  }
 },
 "nbformat": 4,
 "nbformat_minor": 5
}
